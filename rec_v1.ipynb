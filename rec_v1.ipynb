{
 "cells": [
  {
   "cell_type": "code",
   "execution_count": 20,
   "metadata": {},
   "outputs": [],
   "source": [
    "import pandas as pd\n",
    "import re\n",
    "import numpy as np\n",
    "import matplotlib.pyplot as plt\n",
    "import seaborn as sns"
   ]
  },
  {
   "cell_type": "code",
   "execution_count": 27,
   "metadata": {},
   "outputs": [],
   "source": [
    "from tqdm import tqdm"
   ]
  },
  {
   "cell_type": "markdown",
   "metadata": {},
   "source": [
    "---\n",
    "# Read in the data\n",
    "---"
   ]
  },
  {
   "cell_type": "code",
   "execution_count": 21,
   "metadata": {},
   "outputs": [
    {
     "name": "stdout",
     "output_type": "stream",
     "text": [
      "<class 'pandas.core.frame.DataFrame'>\n",
      "RangeIndex: 6819 entries, 0 to 6818\n",
      "Data columns (total 11 columns):\n",
      " #   Column        Non-Null Count  Dtype \n",
      "---  ------        --------------  ----- \n",
      " 0   Recipe        6819 non-null   object\n",
      " 1   Ingredients   6819 non-null   object\n",
      " 2   PrepTime      6819 non-null   int64 \n",
      " 3   CookTime      6819 non-null   int64 \n",
      " 4   TotalTime     6819 non-null   int64 \n",
      " 5   Servings      6819 non-null   int64 \n",
      " 6   Cuisine       6819 non-null   object\n",
      " 7   Course        6819 non-null   object\n",
      " 8   Diet          6819 non-null   object\n",
      " 9   Instructions  6819 non-null   object\n",
      " 10  URL           6819 non-null   object\n",
      "dtypes: int64(4), object(7)\n",
      "memory usage: 586.1+ KB\n"
     ]
    }
   ],
   "source": [
    "food = pd.read_csv('data/IndianFoodDatasetCSV.csv')\n",
    "food = food.dropna()\n",
    "food = food.drop_duplicates()\n",
    "food = food.reset_index(drop=True)\n",
    "food = food[['TranslatedRecipeName', 'TranslatedIngredients', 'PrepTimeInMins', 'CookTimeInMins', 'TotalTimeInMins', 'Servings', 'Cuisine', 'Course', 'Diet', 'TranslatedInstructions', 'URL']]\n",
    "food.columns = ['Recipe', 'Ingredients', 'PrepTime', 'CookTime', 'TotalTime', 'Servings', 'Cuisine', 'Course', 'Diet', 'Instructions', 'URL']\n",
    "food = food.iloc[:6819, :]\n",
    "food.info()"
   ]
  },
  {
   "cell_type": "code",
   "execution_count": 22,
   "metadata": {},
   "outputs": [
    {
     "data": {
      "text/html": [
       "<div>\n",
       "<style scoped>\n",
       "    .dataframe tbody tr th:only-of-type {\n",
       "        vertical-align: middle;\n",
       "    }\n",
       "\n",
       "    .dataframe tbody tr th {\n",
       "        vertical-align: top;\n",
       "    }\n",
       "\n",
       "    .dataframe thead th {\n",
       "        text-align: right;\n",
       "    }\n",
       "</style>\n",
       "<table border=\"1\" class=\"dataframe\">\n",
       "  <thead>\n",
       "    <tr style=\"text-align: right;\">\n",
       "      <th></th>\n",
       "      <th>Recipe</th>\n",
       "      <th>Ingredients</th>\n",
       "      <th>PrepTime</th>\n",
       "      <th>CookTime</th>\n",
       "      <th>TotalTime</th>\n",
       "      <th>Servings</th>\n",
       "      <th>Cuisine</th>\n",
       "      <th>Course</th>\n",
       "      <th>Diet</th>\n",
       "      <th>Instructions</th>\n",
       "      <th>URL</th>\n",
       "    </tr>\n",
       "  </thead>\n",
       "  <tbody>\n",
       "    <tr>\n",
       "      <th>0</th>\n",
       "      <td>Masala Karela Recipe</td>\n",
       "      <td>6 Karela (Bitter Gourd/ Pavakkai) - deseeded,S...</td>\n",
       "      <td>15</td>\n",
       "      <td>30</td>\n",
       "      <td>45</td>\n",
       "      <td>6</td>\n",
       "      <td>Indian</td>\n",
       "      <td>Side Dish</td>\n",
       "      <td>Diabetic Friendly</td>\n",
       "      <td>To begin making the Masala Karela Recipe,de-se...</td>\n",
       "      <td>https://www.archanaskitchen.com/masala-karela-...</td>\n",
       "    </tr>\n",
       "    <tr>\n",
       "      <th>1</th>\n",
       "      <td>Spicy Tomato Rice (Recipe)</td>\n",
       "      <td>2-1 / 2 cups rice - cooked, 3 tomatoes, 3 teas...</td>\n",
       "      <td>5</td>\n",
       "      <td>10</td>\n",
       "      <td>15</td>\n",
       "      <td>3</td>\n",
       "      <td>South Indian Recipes</td>\n",
       "      <td>Main Course</td>\n",
       "      <td>Vegetarian</td>\n",
       "      <td>To make tomato puliogere, first cut the tomato...</td>\n",
       "      <td>http://www.archanaskitchen.com/spicy-tomato-ri...</td>\n",
       "    </tr>\n",
       "    <tr>\n",
       "      <th>2</th>\n",
       "      <td>Ragi Semiya Upma Recipe - Ragi Millet Vermicel...</td>\n",
       "      <td>1-1/2 cups Rice Vermicelli Noodles (Thin),1 On...</td>\n",
       "      <td>20</td>\n",
       "      <td>30</td>\n",
       "      <td>50</td>\n",
       "      <td>4</td>\n",
       "      <td>South Indian Recipes</td>\n",
       "      <td>South Indian Breakfast</td>\n",
       "      <td>High Protein Vegetarian</td>\n",
       "      <td>To begin making the Ragi Vermicelli Recipe, fi...</td>\n",
       "      <td>http://www.archanaskitchen.com/ragi-vermicelli...</td>\n",
       "    </tr>\n",
       "    <tr>\n",
       "      <th>3</th>\n",
       "      <td>Gongura Chicken Curry Recipe - Andhra Style Go...</td>\n",
       "      <td>500 grams Chicken,2 Onion - chopped,1 Tomato -...</td>\n",
       "      <td>15</td>\n",
       "      <td>30</td>\n",
       "      <td>45</td>\n",
       "      <td>4</td>\n",
       "      <td>Andhra</td>\n",
       "      <td>Lunch</td>\n",
       "      <td>Non Vegeterian</td>\n",
       "      <td>To begin making Gongura Chicken Curry Recipe f...</td>\n",
       "      <td>http://www.archanaskitchen.com/gongura-chicken...</td>\n",
       "    </tr>\n",
       "    <tr>\n",
       "      <th>4</th>\n",
       "      <td>Andhra Style Alam Pachadi Recipe - Adrak Chutn...</td>\n",
       "      <td>1 tablespoon chana dal, 1 tablespoon white ura...</td>\n",
       "      <td>10</td>\n",
       "      <td>20</td>\n",
       "      <td>30</td>\n",
       "      <td>4</td>\n",
       "      <td>Andhra</td>\n",
       "      <td>South Indian Breakfast</td>\n",
       "      <td>Vegetarian</td>\n",
       "      <td>To make Andhra Style Alam Pachadi, first heat ...</td>\n",
       "      <td>https://www.archanaskitchen.com/andhra-style-a...</td>\n",
       "    </tr>\n",
       "  </tbody>\n",
       "</table>\n",
       "</div>"
      ],
      "text/plain": [
       "                                              Recipe  \\\n",
       "0                               Masala Karela Recipe   \n",
       "1                         Spicy Tomato Rice (Recipe)   \n",
       "2  Ragi Semiya Upma Recipe - Ragi Millet Vermicel...   \n",
       "3  Gongura Chicken Curry Recipe - Andhra Style Go...   \n",
       "4  Andhra Style Alam Pachadi Recipe - Adrak Chutn...   \n",
       "\n",
       "                                         Ingredients  PrepTime  CookTime  \\\n",
       "0  6 Karela (Bitter Gourd/ Pavakkai) - deseeded,S...        15        30   \n",
       "1  2-1 / 2 cups rice - cooked, 3 tomatoes, 3 teas...         5        10   \n",
       "2  1-1/2 cups Rice Vermicelli Noodles (Thin),1 On...        20        30   \n",
       "3  500 grams Chicken,2 Onion - chopped,1 Tomato -...        15        30   \n",
       "4  1 tablespoon chana dal, 1 tablespoon white ura...        10        20   \n",
       "\n",
       "   TotalTime  Servings               Cuisine                  Course  \\\n",
       "0         45         6                Indian               Side Dish   \n",
       "1         15         3  South Indian Recipes             Main Course   \n",
       "2         50         4  South Indian Recipes  South Indian Breakfast   \n",
       "3         45         4                Andhra                   Lunch   \n",
       "4         30         4                Andhra  South Indian Breakfast   \n",
       "\n",
       "                      Diet                                       Instructions  \\\n",
       "0        Diabetic Friendly  To begin making the Masala Karela Recipe,de-se...   \n",
       "1               Vegetarian  To make tomato puliogere, first cut the tomato...   \n",
       "2  High Protein Vegetarian  To begin making the Ragi Vermicelli Recipe, fi...   \n",
       "3           Non Vegeterian  To begin making Gongura Chicken Curry Recipe f...   \n",
       "4               Vegetarian  To make Andhra Style Alam Pachadi, first heat ...   \n",
       "\n",
       "                                                 URL  \n",
       "0  https://www.archanaskitchen.com/masala-karela-...  \n",
       "1  http://www.archanaskitchen.com/spicy-tomato-ri...  \n",
       "2  http://www.archanaskitchen.com/ragi-vermicelli...  \n",
       "3  http://www.archanaskitchen.com/gongura-chicken...  \n",
       "4  https://www.archanaskitchen.com/andhra-style-a...  "
      ]
     },
     "execution_count": 22,
     "metadata": {},
     "output_type": "execute_result"
    }
   ],
   "source": [
    "food.head()"
   ]
  },
  {
   "cell_type": "code",
   "execution_count": 24,
   "metadata": {},
   "outputs": [],
   "source": [
    "food.to_csv('data/cleaned_food.csv', index=False)"
   ]
  },
  {
   "cell_type": "markdown",
   "metadata": {},
   "source": [
    "---\n",
    "# Ingredients Cleaning\n",
    "---"
   ]
  },
  {
   "cell_type": "code",
   "execution_count": 5,
   "metadata": {},
   "outputs": [
    {
     "data": {
      "text/plain": [
       "('6 Karela (Bitter Gourd/ Pavakkai) - deseeded,Salt - to taste,1 Onion - thinly sliced,3 tablespoon Gram flour (besan),2 teaspoons Turmeric powder (Haldi),1 tablespoon Red Chilli powder,2 teaspoons Cumin seeds (Jeera),1 tablespoon Coriander Powder (Dhania),1 tablespoon Amchur (Dry Mango Powder),Sunflower Oil - as required',\n",
       " '2-1 / 2 cups rice - cooked, 3 tomatoes, 3 teaspoons BC Belle Bhat powder, salt - as per taste, 1 teaspoon chickpea lentils, 1/2 teaspoon cumin seeds, 1 teaspoon white urad dal, 1/2 Teaspoon mustard, 1 green chilli, 1 dry red chilli, 2 teaspoon cashew - or peanuts, 1-1 / 2 tablespoon oil - 1/2 teaspoon asafoetida')"
      ]
     },
     "execution_count": 5,
     "metadata": {},
     "output_type": "execute_result"
    }
   ],
   "source": [
    "food['Ingredients'].iloc[0], food['Ingredients'].iloc[1]"
   ]
  },
  {
   "cell_type": "code",
   "execution_count": 6,
   "metadata": {},
   "outputs": [],
   "source": [
    "import re\n",
    "import spacy\n",
    "\n",
    "nlp = spacy.load(\"en_core_web_sm\")\n",
    "\n",
    "def clean_ingredients_combined(ingredients):\n",
    "    # Remove numbers and unwanted words using regex\n",
    "    clean = ingredients.split(',')\n",
    "    clean = [text.strip().lower() for text in clean]\n",
    "    cleaned_ingredients = [re.sub(r'\\b\\d+(\\.\\d+)?\\s*(\\/\\s*\\d+(\\.\\d+)?)?\\s*(teaspoon|tablespoon|cup|ounce|pound|g|kg)?[s]?\\b', '', ingredients) for ingredients in clean]\n",
    "\n",
    "    # Remove special characters and extra whitespaces\n",
    "    cleaned_ingredients = [re.sub(r'[^a-zA-Z\\s]', '', cleaned_ingredients) for cleaned_ingredients in cleaned_ingredients]\n",
    "\n",
    "    # Remove extra whitespaces\n",
    "    cleaned_ingredients = [re.sub(r'\\s+', ' ', cleaned_ingredients) for cleaned_ingredients in cleaned_ingredients]\n",
    "\n",
    "    cleaned_ingredients = [text.strip() for text in cleaned_ingredients]\n",
    "\n",
    "    cleaned_ingredients = ', '.join(cleaned_ingredients)\n",
    "\n",
    "    # Tokenize the ingredients using spaCy\n",
    "    doc = nlp(cleaned_ingredients)\n",
    "\n",
    "    # Filter out tokens that are verbs, adjectives, and prepositions\n",
    "    cleaned_ingredients_spacy = [token.text.lower() for token in doc if token.pos_ not in ('VERB', 'ADJ', 'ADP') and not token.is_stop]\n",
    "\n",
    "    cleaned_ingredients_spacy = list(filter(lambda x: x.strip() != '', cleaned_ingredients_spacy))\n",
    "\n",
    "    result_list = []\n",
    "    current_item = ''\n",
    "\n",
    "    for item in cleaned_ingredients_spacy:\n",
    "        if item != ',':\n",
    "            current_item += item + ' '\n",
    "        else:\n",
    "            result_list.append(current_item.strip())\n",
    "            current_item = ''\n",
    "\n",
    "    # Append the last item after the last comma\n",
    "    result_list.append(current_item)\n",
    "\n",
    "    # Filter out empty strings and remove commas\n",
    "    result_list = [item.strip() for item in result_list if item]\n",
    "\n",
    "    return result_list"
   ]
  },
  {
   "cell_type": "code",
   "execution_count": 7,
   "metadata": {},
   "outputs": [
    {
     "data": {
      "text/plain": [
       "(['karela gourd pavakkai',\n",
       "  'salt taste',\n",
       "  'onion thinly',\n",
       "  'gram flour besan',\n",
       "  'powder haldi',\n",
       "  'chilli powder',\n",
       "  'cumin jeera',\n",
       "  'coriander powder dhania',\n",
       "  'amchur mango powder',\n",
       "  'sunflower oil'],\n",
       " ['rice',\n",
       "  'tomatoes',\n",
       "  'bc belle bhat powder',\n",
       "  'salt taste',\n",
       "  'chickpea lentils',\n",
       "  'cumin seeds',\n",
       "  'urad dal',\n",
       "  'mustard',\n",
       "  'green chilli',\n",
       "  'red chilli',\n",
       "  'cashew peanuts',\n",
       "  'oil asafoetida'])"
      ]
     },
     "execution_count": 7,
     "metadata": {},
     "output_type": "execute_result"
    }
   ],
   "source": [
    "food['Ingredients_Cleaned'] = food['Ingredients'].apply(clean_ingredients_combined)\n",
    "food['Ingredients_Cleaned'].iloc[0], food['Ingredients_Cleaned'].iloc[1]"
   ]
  },
  {
   "cell_type": "code",
   "execution_count": 12,
   "metadata": {},
   "outputs": [],
   "source": [
    "def get_and_sort_corpus(data):\n",
    "    corpus_sorted = []\n",
    "    for doc in data.Ingredients.values:\n",
    "        doc.sort()\n",
    "        corpus_sorted.append(doc)\n",
    "    return corpus_sorted"
   ]
  },
  {
   "cell_type": "code",
   "execution_count": 14,
   "metadata": {},
   "outputs": [
    {
     "data": {
      "text/plain": [
       "(6819,\n",
       " [['amchur mango powder',\n",
       "   'chilli powder',\n",
       "   'coriander powder dhania',\n",
       "   'cumin jeera',\n",
       "   'gram flour besan',\n",
       "   'karela gourd pavakkai',\n",
       "   'onion thinly',\n",
       "   'powder haldi',\n",
       "   'salt taste',\n",
       "   'sunflower oil'],\n",
       "  ['bc belle bhat powder',\n",
       "   'cashew peanuts',\n",
       "   'chickpea lentils',\n",
       "   'cumin seeds',\n",
       "   'green chilli',\n",
       "   'mustard',\n",
       "   'oil asafoetida',\n",
       "   'red chilli',\n",
       "   'rice',\n",
       "   'salt taste',\n",
       "   'tomatoes',\n",
       "   'urad dal']])"
      ]
     },
     "execution_count": 14,
     "metadata": {},
     "output_type": "execute_result"
    }
   ],
   "source": [
    "corpus = get_and_sort_corpus(food)\n",
    "len(corpus), corpus[:2]"
   ]
  },
  {
   "cell_type": "markdown",
   "metadata": {},
   "source": [
    "---\n",
    "# Ingredients Tokenization\n",
    "---"
   ]
  },
  {
   "cell_type": "code",
   "execution_count": 8,
   "metadata": {},
   "outputs": [],
   "source": [
    "from sklearn.feature_extraction.text import TfidfVectorizer"
   ]
  },
  {
   "cell_type": "code",
   "execution_count": 19,
   "metadata": {},
   "outputs": [
    {
     "name": "stdout",
     "output_type": "stream",
     "text": [
      "Recommended Recipes:\n",
      "Spicy Tomato Uttapam With Garlic Recipe\n",
      "Kandarappam Recipe (Chettinad Sweet Appam)\n",
      "Instant Dosa Mix Powder Recipe\n",
      "Iyengar Style Thavala Adai Recipe\n",
      "Mangalorean Style Bella Metthe Dosa Recipe (Jaggery & Fenugreek Seed Pancakes Recipe)\n",
      "\n",
      "Recommended Ingredients:\n",
      "['arhar dal split toor dal', 'clove garlic finely', 'green chilli finely', 'idli rice', 'methi fenugreek seeds', 'oil cooking', 'rice', 'salt', 'salt taste', 'tomatoes', 'urad dal']\n",
      "['arhar dal split toor dal', 'chana dal gram dal', 'coconut', 'jaggery', 'moong dal split', 'powder elaichi', 'rice', 'rice', 'salt', 'urad dal split', 'water']\n",
      "['arhar dal split toor dal', 'chana dal gram dal', 'methi seeds', 'poha rice', 'rice flour sooji rice', 'semolina rava semolina', 'urad dal', 'urad dal split']\n",
      "['arhar dal split toor dal', 'asafoetida pinch', 'chana dal gram dal', 'chana dal gram dal', 'cumin jeera', 'curd dahi yogurt sour', 'milagai chillies', 'mustard seeds', 'oil', 'peppercorns', 'powder fenugreek powder', 'raw rice variety', 'rice rice variety', 'salt', 'sprig curry', 'urad dal', 'water', 'white urad dal split']\n",
      "['coconut', 'jaggery', 'methi fenugreek seeds', 'rice', 'rice poha rice', 'salt', 'sugar', 'urad dal', 'yeast']\n"
     ]
    }
   ],
   "source": [
    "from sklearn.feature_extraction.text import TfidfVectorizer\n",
    "from sklearn.neighbors import NearestNeighbors\n",
    "import pandas as pd\n",
    "\n",
    "# Step 1: TF-IDF Vectorization\n",
    "vectorizer = TfidfVectorizer(stop_words='english')\n",
    "food['Ingredients_str'] = food['Ingredients_Cleaned'].apply(lambda x: ', '.join(x))\n",
    "tfidf_matrix = vectorizer.fit_transform(food['Ingredients_str'])\n",
    "\n",
    "# Step 2: KNN Model\n",
    "knn_model = NearestNeighbors(metric='cosine', algorithm='brute')\n",
    "knn_model.fit(tfidf_matrix)\n",
    "\n",
    "# Step 3: Recipe Recommendation\n",
    "user_input = [\"dal\", \"tomatoes\", \"rice\"]  # Replace with user input\n",
    "user_input_tfidf = vectorizer.transform([\" \".join(user_input)])\n",
    "\n",
    "# KNN Prediction\n",
    "_, indices = knn_model.kneighbors(user_input_tfidf, n_neighbors=5)\n",
    "\n",
    "# Recommendations\n",
    "recommended_recipes = food.iloc[indices[0]]['Recipe'].tolist()\n",
    "recommended_indices = food.iloc[indices[0]]['Ingredients'].tolist()\n",
    "\n",
    "# Display Recommendations\n",
    "print(\"Recommended Recipes:\")\n",
    "for recipe in recommended_recipes:\n",
    "    print(recipe)\n",
    "\n",
    "print(\"\\nRecommended Ingredients:\")\n",
    "for ingredients in recommended_indices:\n",
    "    print(ingredients)"
   ]
  },
  {
   "cell_type": "code",
   "execution_count": null,
   "metadata": {},
   "outputs": [],
   "source": []
  }
 ],
 "metadata": {
  "kernelspec": {
   "display_name": "msds",
   "language": "python",
   "name": "python3"
  },
  "language_info": {
   "codemirror_mode": {
    "name": "ipython",
    "version": 3
   },
   "file_extension": ".py",
   "mimetype": "text/x-python",
   "name": "python",
   "nbconvert_exporter": "python",
   "pygments_lexer": "ipython3",
   "version": "3.8.5"
  }
 },
 "nbformat": 4,
 "nbformat_minor": 2
}
